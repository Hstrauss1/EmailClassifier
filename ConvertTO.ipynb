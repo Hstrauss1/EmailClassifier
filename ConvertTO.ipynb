{
 "cells": [
  {
   "cell_type": "code",
   "execution_count": null,
   "id": "1a1e9bcd-57d4-4831-9d38-bc93800a7180",
   "metadata": {},
   "outputs": [],
   "source": [
    "\n",
    "import os\n",
    "import re\n",
    "import argparse\n",
    "from email import policy\n",
    "from email.parser import BytesParser\n",
    "\n",
    "import nltk\n",
    "from nltk.corpus import stopwords\n",
    "\n",
    "from sklearn.feature_extraction.text import TfidfVectorizer\n",
    "from sklearn.model_selection import train_test_split\n",
    "from sklearn.naive_bayes import MultinomialNB\n",
    "from sklearn.linear_model import LogisticRegression\n",
    "from sklearn.tree import DecisionTreeClassifier\n",
    "from sklearn.metrics import classification_report, confusion_matrix\n",
    "\n",
    "# Ensure NLTK stopwords are downloaded\n",
    "nltk.download('stopwords', quiet=True)\n",
    "STOPWORDS = set(stopwords.words('english'))\n",
    "\n",
    "def clean_text(text: str) -> str:\n",
    "    text = text.lower()\n",
    "    text = re.sub(r'https?://\\S+|www\\.\\S+', '', text)      # remove ursls\n",
    "    text = re.sub(r'[^a-z0-9\\s]', ' ', text)               # and punctuation\n",
    "    text = re.sub(r'\\s+', ' ', text).strip()    # add stemming or lemmatizngn??\n",
    "    return text"
   ]
  },
  {
   "cell_type": "code",
   "execution_count": null,
   "id": "d16ed634-e7b4-49b3-8e22-dfa97cfa64b9",
   "metadata": {},
   "outputs": [],
   "source": [
    "def load_emails(maildir: str):\n",
    "    texts, labels = [], []\n",
    "    for user in os.listdir(maildir):\n",
    "        user_dir = os.path.join(maildir, user)\n",
    "        if not os.path.isdir(user_dir):\n",
    "            continue\n",
    "        for folder in os.listdir(user_dir):\n",
    "            folder_dir = os.path.join(user_dir, folder)\n",
    "            if not os.path.isdir(folder_dir):\n",
    "                continue\n",
    "            for fname in os.listdir(folder_dir):\n",
    "                path = os.path.join(folder_dir, fname)\n",
    "                try:\n",
    "                    with open(path, 'rb') as f:\n",
    "                        msg = BytesParser(policy=policy.default).parse(f) # build message in binaryy \n",
    "                    body = msg.get_body(preferencelist=('plain',)) # turn into tsring\n",
    "                    if body is None: \n",
    "                        continue\n",
    "                    raw = body.get_content()\n",
    "                    text = clean_text(raw)\n",
    "                    if not text:\n",
    "                        continue\n",
    "                    # data cleaning\n",
    "                    tokens = [w for w in text.split() if w not in STOPWORDS] #cleanning. Added lemmentatizn or stemming?\n",
    "                    texts.append(' '.join(tokens))\n",
    "                    labels.append(user)\n",
    "                except Exception:\n",
    "                    continue\n",
    "    return texts, labels\n"
   ]
  },
  {
   "cell_type": "code",
   "execution_count": null,
   "id": "a84a34a5-5b42-433a-8f79-72651a3f50b6",
   "metadata": {},
   "outputs": [],
   "source": [
    "DATA_DIR = \"maildir\"     # path to Enron stuf\n",
    "TEST_SIZE = 0.2\n",
    "RANDOM_STATE = 42\n",
    "\n",
    "print(\"Loading and cleaning emails…\")\n",
    "texts, labels = load_emails(DATA_DIR)\n",
    "print(f\"→ {len(texts)} messages from {len(set(labels))} authors\")"
   ]
  },
  {
   "cell_type": "code",
   "execution_count": null,
   "id": "018d0c61-5d9c-4d6e-a4b6-4d245ca9acca",
   "metadata": {},
   "outputs": [],
   "source": [
    "print(\"Vectorizing with TF–IDF…\")\n",
    "vect = TfidfVectorizer(max_features=20_000)\n",
    "X = vect.fit_transform(texts)\n",
    "y = labels"
   ]
  },
  {
   "cell_type": "code",
   "execution_count": null,
   "id": "914d64f1-689b-453d-9e63-793ca6a13686",
   "metadata": {},
   "outputs": [],
   "source": [
    "X_train, X_test, y_train, y_test = train_test_split( #split and train\n",
    "    X, y,\n",
    "    test_size=TEST_SIZE,\n",
    "    stratify=y,\n",
    "    random_state=RANDOM_STATE\n",
    ")\n",
    "print(f\"→ Training on {X_train.shape[0]} docs; testing on {X_test.shape[0]}\")"
   ]
  },
  {
   "cell_type": "code",
   "execution_count": null,
   "id": "d4952d2c-8208-4fb4-8595-b6c45c760545",
   "metadata": {},
   "outputs": [],
   "source": [
    "models = {\n",
    "    \"Naive Bayes\": MultinomialNB(alpha=1.0),\n",
    "    \"Logistic Regression\": LogisticRegression(max_iter=200),\n",
    "    \"Decision Tree\": DecisionTreeClassifier(max_depth=20)\n",
    "}\n",
    "\n",
    "for name, model in models.items():\n",
    "    print(f\"\\n{name}\")\n",
    "    model.fit(X_train, y_train)\n",
    "    preds = model.predict(X_test)\n",
    "    print(classification_report(y_test, preds))\n",
    "    print(\"Confusion matrix:\")\n",
    "    print(confusion_matrix(y_test, preds))"
   ]
  }
 ],
 "metadata": {
  "kernelspec": {
   "display_name": "140wi25",
   "language": "python",
   "name": "140wi25"
  },
  "language_info": {
   "codemirror_mode": {
    "name": "ipython",
    "version": 3
   },
   "file_extension": ".py",
   "mimetype": "text/x-python",
   "name": "python",
   "nbconvert_exporter": "python",
   "pygments_lexer": "ipython3",
   "version": "3.9.21"
  }
 },
 "nbformat": 4,
 "nbformat_minor": 5
}
